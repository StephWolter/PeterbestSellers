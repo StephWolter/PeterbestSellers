{
 "cells": [
  {
   "cell_type": "code",
   "execution_count": 17,
   "id": "bcb069a9",
   "metadata": {},
   "outputs": [],
   "source": [
    "from pyspark.sql import SparkSession\n",
    "from pyspark.sql.functions import split, get_json_object, collect_list, when, col"
   ]
  },
  {
   "cell_type": "code",
   "execution_count": 2,
   "id": "a872cf8b",
   "metadata": {},
   "outputs": [
    {
     "name": "stderr",
     "output_type": "stream",
     "text": [
      "23/08/05 09:07:59 WARN Utils: Your hostname, Stephanies-MacBook-Air.local resolves to a loopback address: 127.0.0.1; using 192.168.4.152 instead (on interface en0)\n",
      "23/08/05 09:07:59 WARN Utils: Set SPARK_LOCAL_IP if you need to bind to another address\n",
      "Setting default log level to \"WARN\".\n",
      "To adjust logging level use sc.setLogLevel(newLevel). For SparkR, use setLogLevel(newLevel).\n",
      "23/08/05 09:08:00 WARN NativeCodeLoader: Unable to load native-hadoop library for your platform... using builtin-java classes where applicable\n"
     ]
    }
   ],
   "source": [
    "spark = SparkSession.builder \\\n",
    "    .appName(\"ol_works\") \\\n",
    "    .getOrCreate()"
   ]
  },
  {
   "cell_type": "code",
   "execution_count": 3,
   "id": "bc7b7338",
   "metadata": {},
   "outputs": [
    {
     "name": "stderr",
     "output_type": "stream",
     "text": [
      "\r",
      "[Stage 0:>                                                          (0 + 1) / 1]\r"
     ]
    },
    {
     "name": "stdout",
     "output_type": "stream",
     "text": [
      "+------------------------------------------------------------------------------------------------------------------------------------------------------------------------------------------------------------------------------------------------------------------------------------------------------------------------------------------------------------------------------------------------------------------------------------------------------------------------------------------------------------------------------------------------------------------------------------------------------------------------------------------------------------------------------------------------------------------------------------------------------------+\n",
      "|value                                                                                                                                                                                                                                                                                                                                                                                                                                                                                                                                                                                                                                                                                                                                                       |\n",
      "+------------------------------------------------------------------------------------------------------------------------------------------------------------------------------------------------------------------------------------------------------------------------------------------------------------------------------------------------------------------------------------------------------------------------------------------------------------------------------------------------------------------------------------------------------------------------------------------------------------------------------------------------------------------------------------------------------------------------------------------------------------+\n",
      "|/type/work\\t/works/OL10000315W\\t1\\t2009-12-11T01:57:19.964652\\t{\"title\": \"Qisas min al-hayah\", \"created\": {\"type\": \"/type/datetime\", \"value\": \"2009-12-11T01:57:19.964652\"}, \"last_modified\": {\"type\": \"/type/datetime\", \"value\": \"2009-12-11T01:57:19.964652\"}, \"latest_revision\": 1, \"key\": \"/works/OL10000315W\", \"authors\": [{\"type\": \"/type/author_role\", \"author\": {\"key\": \"/authors/OL3965336A\"}}], \"type\": {\"key\": \"/type/work\"}, \"revision\": 1}                                                                                                                                                                                                                                                                                                     |\n",
      "|/type/work\\t/works/OL10000836W\\t4\\t2021-10-28T06:04:59.447943\\t{\"title\": \"PowerPoint 2000\", \"covers\": [3141691], \"key\": \"/works/OL10000836W\", \"authors\": [{\"type\": {\"key\": \"/type/author_role\"}, \"author\": {\"key\": \"/authors/OL3965931A\"}}], \"type\": {\"key\": \"/type/work\"}, \"subjects\": [\"Microsoft PowerPoint (logiciel)\", \"Infographie\", \"Logiciels\", \"Pr\\u00e9sentations (Affaires)\", \"Guides, manuels\", \"Microsoft PowerPoint (Logiciel)\"], \"latest_revision\": 4, \"revision\": 4, \"created\": {\"type\": \"/type/datetime\", \"value\": \"2009-12-11T01:57:19.964652\"}, \"last_modified\": {\"type\": \"/type/datetime\", \"value\": \"2021-10-28T06:04:59.447943\"}}                                                                                                      |\n",
      "|/type/work\\t/works/OL10000889W\\t2\\t2022-12-30T06:49:37.789196\\t{\"title\": \"La Rome antique dans l'art lyrique\", \"key\": \"/works/OL10000889W\", \"authors\": [{\"type\": {\"key\": \"/type/author_role\"}, \"author\": {\"key\": \"/authors/OL3965988A\"}}], \"type\": {\"key\": \"/type/work\"}, \"subjects\": [\"Operas\", \"Stories, plots\", \"Drama\", \"Civilization\"], \"latest_revision\": 2, \"revision\": 2, \"created\": {\"type\": \"/type/datetime\", \"value\": \"2009-12-11T01:57:19.964652\"}, \"last_modified\": {\"type\": \"/type/datetime\", \"value\": \"2022-12-30T06:49:37.789196\"}}                                                                                                                                                                                                         |\n",
      "|/type/work\\t/works/OL10001324W\\t3\\t2010-04-28T06:54:19.472104\\t{\"title\": \"Art nouveau\", \"created\": {\"type\": \"/type/datetime\", \"value\": \"2009-12-11T01:57:29.804644\"}, \"covers\": [3142785], \"last_modified\": {\"type\": \"/type/datetime\", \"value\": \"2010-04-28T06:54:19.472104\"}, \"latest_revision\": 3, \"key\": \"/works/OL10001324W\", \"authors\": [{\"type\": \"/type/author_role\", \"author\": {\"key\": \"/authors/OL3966449A\"}}], \"type\": {\"key\": \"/type/work\"}, \"revision\": 3}                                                                                                                                                                                                                                                                                       |\n",
      "|/type/work\\t/works/OL1000141W\\t4\\t2012-07-09T00:02:05.517564\\t{\"title\": \"Das Reich der Inseln 5. Die Geisterbr\\u00fccke\", \"created\": {\"type\": \"/type/datetime\", \"value\": \"2009-12-09T19:03:27.899466\"}, \"covers\": [3193041], \"last_modified\": {\"type\": \"/type/datetime\", \"value\": \"2012-07-09T00:02:05.517564\"}, \"latest_revision\": 4, \"key\": \"/works/OL1000141W\", \"authors\": [{\"type\": {\"key\": \"/type/author_role\"}, \"author\": {\"key\": \"/authors/OL4740632A\"}}], \"type\": {\"key\": \"/type/work\"}, \"revision\": 4}                                                                                                                                                                                                                                             |\n",
      "|/type/work\\t/works/OL10001446W\\t3\\t2010-04-28T06:54:19.472104\\t{\"title\": \"Rome 2002\", \"created\": {\"type\": \"/type/datetime\", \"value\": \"2009-12-11T01:57:29.804644\"}, \"covers\": [3143101], \"last_modified\": {\"type\": \"/type/datetime\", \"value\": \"2010-04-28T06:54:19.472104\"}, \"latest_revision\": 3, \"key\": \"/works/OL10001446W\", \"authors\": [{\"type\": \"/type/author_role\", \"author\": {\"key\": \"/authors/OL3966612A\"}}], \"type\": {\"key\": \"/type/work\"}, \"revision\": 3}                                                                                                                                                                                                                                                                                         |\n",
      "|/type/work\\t/works/OL10001662W\\t3\\t2010-04-28T06:54:19.472104\\t{\"title\": \"Partir etudier au quebec\", \"created\": {\"type\": \"/type/datetime\", \"value\": \"2009-12-11T01:57:29.804644\"}, \"covers\": [3143643], \"last_modified\": {\"type\": \"/type/datetime\", \"value\": \"2010-04-28T06:54:19.472104\"}, \"latest_revision\": 3, \"key\": \"/works/OL10001662W\", \"authors\": [{\"type\": \"/type/author_role\", \"author\": {\"key\": \"/authors/OL3966842A\"}}], \"type\": {\"key\": \"/type/work\"}, \"revision\": 3}                                                                                                                                                                                                                                                                          |\n",
      "|/type/work\\t/works/OL10001801W\\t1\\t2009-12-11T01:57:29.804644\\t{\"title\": \"Le p'tit dico de la superstition\", \"created\": {\"type\": \"/type/datetime\", \"value\": \"2009-12-11T01:57:29.804644\"}, \"last_modified\": {\"type\": \"/type/datetime\", \"value\": \"2009-12-11T01:57:29.804644\"}, \"latest_revision\": 1, \"key\": \"/works/OL10001801W\", \"authors\": [{\"type\": \"/type/author_role\", \"author\": {\"key\": \"/authors/OL3966991A\"}}], \"type\": {\"key\": \"/type/work\"}, \"revision\": 1}                                                                                                                                                                                                                                                                                       |\n",
      "|/type/work\\t/works/OL10002285W\\t1\\t2009-12-11T01:57:38.254267\\t{\"title\": \"MALESTROIT HIER ET AUJOURD'HUI\", \"created\": {\"type\": \"/type/datetime\", \"value\": \"2009-12-11T01:57:38.254267\"}, \"last_modified\": {\"type\": \"/type/datetime\", \"value\": \"2009-12-11T01:57:38.254267\"}, \"latest_revision\": 1, \"key\": \"/works/OL10002285W\", \"authors\": [{\"type\": \"/type/author_role\", \"author\": {\"key\": \"/authors/OL3967610A\"}}], \"type\": {\"key\": \"/type/work\"}, \"revision\": 1}                                                                                                                                                                                                                                                                                         |\n",
      "|/type/work\\t/works/OL10002580W\\t3\\t2010-04-28T06:54:19.472104\\t{\"title\": \"Marie Durand et les prisonni\\u00e8res d'Aigues-Mortes\", \"created\": {\"type\": \"/type/datetime\", \"value\": \"2009-12-11T01:57:38.254267\"}, \"covers\": [5440561], \"last_modified\": {\"type\": \"/type/datetime\", \"value\": \"2010-04-28T06:54:19.472104\"}, \"latest_revision\": 3, \"key\": \"/works/OL10002580W\", \"authors\": [{\"type\": \"/type/author_role\", \"author\": {\"key\": \"/authors/OL3967978A\"}}], \"type\": {\"key\": \"/type/work\"}, \"revision\": 3}                                                                                                                                                                                                                                             |\n",
      "|/type/work\\t/works/OL10002611W\\t3\\t2010-04-28T06:54:19.472104\\t{\"title\": \"Le Tennis de table\", \"created\": {\"type\": \"/type/datetime\", \"value\": \"2009-12-11T01:57:38.254267\"}, \"covers\": [3145594], \"last_modified\": {\"type\": \"/type/datetime\", \"value\": \"2010-04-28T06:54:19.472104\"}, \"latest_revision\": 3, \"key\": \"/works/OL10002611W\", \"authors\": [{\"type\": \"/type/author_role\", \"author\": {\"key\": \"/authors/OL3968004A\"}}], \"type\": {\"key\": \"/type/work\"}, \"revision\": 3}                                                                                                                                                                                                                                                                                |\n",
      "|/type/work\\t/works/OL10002655W\\t3\\t2010-04-28T06:54:19.472104\\t{\"title\": \"Rugby tactique lancements d'attaques et encha nements de jeu\", \"created\": {\"type\": \"/type/datetime\", \"value\": \"2009-12-11T01:57:38.254267\"}, \"covers\": [3145673], \"last_modified\": {\"type\": \"/type/datetime\", \"value\": \"2010-04-28T06:54:19.472104\"}, \"latest_revision\": 3, \"key\": \"/works/OL10002655W\", \"authors\": [{\"type\": \"/type/author_role\", \"author\": {\"key\": \"/authors/OL3968076A\"}}], \"type\": {\"key\": \"/type/work\"}, \"revision\": 3}                                                                                                                                                                                                                                      |\n",
      "|/type/work\\t/works/OL10002707W\\t3\\t2010-04-28T06:54:19.472104\\t{\"title\": \"Le mythe du progres\", \"created\": {\"type\": \"/type/datetime\", \"value\": \"2009-12-11T01:57:38.254267\"}, \"covers\": [3145786], \"last_modified\": {\"type\": \"/type/datetime\", \"value\": \"2010-04-28T06:54:19.472104\"}, \"latest_revision\": 3, \"key\": \"/works/OL10002707W\", \"authors\": [{\"type\": \"/type/author_role\", \"author\": {\"key\": \"/authors/OL3968126A\"}}], \"type\": {\"key\": \"/type/work\"}, \"revision\": 3}                                                                                                                                                                                                                                                                               |\n",
      "|/type/work\\t/works/OL10003003W\\t1\\t2009-12-11T01:57:52.839053\\t{\"title\": \"Plan de Marly-le-Roi (Petit plan Petit)\", \"created\": {\"type\": \"/type/datetime\", \"value\": \"2009-12-11T01:57:52.839053\"}, \"last_modified\": {\"type\": \"/type/datetime\", \"value\": \"2009-12-11T01:57:52.839053\"}, \"latest_revision\": 1, \"key\": \"/works/OL10003003W\", \"authors\": [{\"type\": \"/type/author_role\", \"author\": {\"key\": \"/authors/OL3968399A\"}}], \"type\": {\"key\": \"/type/work\"}, \"revision\": 1}                                                                                                                                                                                                                                                                                |\n",
      "|/type/work\\t/works/OL1000356W\\t4\\t2020-11-05T21:51:57.893329\\t{\"created\": {\"type\": \"/type/datetime\", \"value\": \"2009-12-09T19:05:50.674576\"}, \"subjects\": [\"Science fiction television programs\", \"Television programs\", \"Lost in space (Television program)\"], \"latest_revision\": 4, \"description\": {\"type\": \"/type/text\", \"value\": \"An overview of \\\"the most misunderstood\\\" science fiction television series, \\\"Lost in Space,\\\" which ran for eighty-three episodes.\"}, \"key\": \"/works/OL1000356W\", \"title\": \"War of the robots\", \"authors\": [{\"type\": \"/type/author_role\", \"author\": {\"key\": \"/authors/OL92945A\"}}], \"type\": {\"key\": \"/type/work\"}, \"last_modified\": {\"type\": \"/type/datetime\", \"value\": \"2020-11-05T21:51:57.893329\"}, \"revision\": 4}|\n",
      "|/type/work\\t/works/OL10003588W\\t3\\t2010-04-28T06:54:19.472104\\t{\"title\": \"Compagnon Rituel D'Instruction Macon (Rer)\", \"created\": {\"type\": \"/type/datetime\", \"value\": \"2009-12-11T01:57:52.839053\"}, \"covers\": [3147292], \"last_modified\": {\"type\": \"/type/datetime\", \"value\": \"2010-04-28T06:54:19.472104\"}, \"latest_revision\": 3, \"key\": \"/works/OL10003588W\", \"authors\": [{\"type\": \"/type/author_role\", \"author\": {\"key\": \"/authors/OL3969073A\"}}], \"type\": {\"key\": \"/type/work\"}, \"revision\": 3}                                                                                                                                                                                                                                                        |\n",
      "|/type/work\\t/works/OL10003906W\\t3\\t2010-04-28T06:54:19.472104\\t{\"title\": \"Musicoth\\u00e9rapie, paroles des maux\", \"created\": {\"type\": \"/type/datetime\", \"value\": \"2009-12-11T01:57:52.839053\"}, \"covers\": [3147937], \"last_modified\": {\"type\": \"/type/datetime\", \"value\": \"2010-04-28T06:54:19.472104\"}, \"latest_revision\": 3, \"key\": \"/works/OL10003906W\", \"authors\": [{\"type\": \"/type/author_role\", \"author\": {\"key\": \"/authors/OL3969441A\"}}], \"type\": {\"key\": \"/type/work\"}, \"revision\": 3}                                                                                                                                                                                                                                                             |\n",
      "|/type/work\\t/works/OL10004022W\\t3\\t2010-04-28T06:54:19.472104\\t{\"title\": \"La grande horloge\", \"created\": {\"type\": \"/type/datetime\", \"value\": \"2009-12-11T01:58:02.183946\"}, \"covers\": [3148109], \"last_modified\": {\"type\": \"/type/datetime\", \"value\": \"2010-04-28T06:54:19.472104\"}, \"latest_revision\": 3, \"key\": \"/works/OL10004022W\", \"authors\": [{\"type\": \"/type/author_role\", \"author\": {\"key\": \"/authors/OL3969554A\"}}], \"type\": {\"key\": \"/type/work\"}, \"revision\": 3}                                                                                                                                                                                                                                                                                 |\n",
      "|/type/work\\t/works/OL10004189W\\t3\\t2010-04-28T06:54:19.472104\\t{\"title\": \"Journal d'un homme d\\u00e9\\u00e7u\", \"created\": {\"type\": \"/type/datetime\", \"value\": \"2009-12-11T01:58:02.183946\"}, \"covers\": [3148441], \"last_modified\": {\"type\": \"/type/datetime\", \"value\": \"2010-04-28T06:54:19.472104\"}, \"latest_revision\": 3, \"key\": \"/works/OL10004189W\", \"authors\": [{\"type\": \"/type/author_role\", \"author\": {\"key\": \"/authors/OL3969692A\"}}], \"type\": {\"key\": \"/type/work\"}, \"revision\": 3}                                                                                                                                                                                                                                                                 |\n",
      "|/type/work\\t/works/OL10004279W\\t3\\t2010-04-28T06:54:19.472104\\t{\"title\": \"Creer et piloter un r\\u00e9seau de sante\", \"created\": {\"type\": \"/type/datetime\", \"value\": \"2009-12-11T01:58:02.183946\"}, \"covers\": [3148679], \"last_modified\": {\"type\": \"/type/datetime\", \"value\": \"2010-04-28T06:54:19.472104\"}, \"latest_revision\": 3, \"key\": \"/works/OL10004279W\", \"authors\": [{\"type\": \"/type/author_role\", \"author\": {\"key\": \"/authors/OL3969824A\"}}], \"type\": {\"key\": \"/type/work\"}, \"revision\": 3}                                                                                                                                                                                                                                                          |\n",
      "+------------------------------------------------------------------------------------------------------------------------------------------------------------------------------------------------------------------------------------------------------------------------------------------------------------------------------------------------------------------------------------------------------------------------------------------------------------------------------------------------------------------------------------------------------------------------------------------------------------------------------------------------------------------------------------------------------------------------------------------------------------+\n",
      "only showing top 20 rows\n",
      "\n"
     ]
    },
    {
     "name": "stderr",
     "output_type": "stream",
     "text": [
      "\r",
      "                                                                                \r"
     ]
    }
   ],
   "source": [
    "file_path = \"./ol_dump_works_2023-07-31.txt\"\n",
    "ol_works_df = spark.read.text(file_path)\n",
    "ol_works_df.show(truncate=False)"
   ]
  },
  {
   "cell_type": "code",
   "execution_count": 4,
   "id": "a3737053",
   "metadata": {},
   "outputs": [
    {
     "data": {
      "text/plain": [
       "{'title': 'Qisas min al-hayah',\n",
       " 'created': {'type': '/type/datetime', 'value': '2009-12-11T01:57:19.964652'},\n",
       " 'last_modified': {'type': '/type/datetime',\n",
       "  'value': '2009-12-11T01:57:19.964652'},\n",
       " 'latest_revision': 1,\n",
       " 'key': '/works/OL10000315W',\n",
       " 'authors': [{'type': '/type/author_role',\n",
       "   'author': {'key': '/authors/OL3965336A'}}],\n",
       " 'type': {'key': '/type/work'},\n",
       " 'revision': 1}"
      ]
     },
     "execution_count": 4,
     "metadata": {},
     "output_type": "execute_result"
    }
   ],
   "source": [
    "# {\"title\": \"Qisas min al-hayah\", \"created\": {\"type\": \"/type/datetime\", \"value\": \"2009-12-11T01:57:19.964652\"}, \"last_modified\": {\"type\": \"/type/datetime\", \"value\": \"2009-12-11T01:57:19.964652\"}, \"latest_revision\": 1, \"key\": \"/works/OL10000315W\", \"authors\": [{\"type\": \"/type/author_role\", \"author\": {\"key\": \"/authors/OL3965336A\"}}], \"type\": {\"key\": \"/type/work\"}, \"revision\": 1} "
   ]
  },
  {
   "cell_type": "code",
   "execution_count": 5,
   "id": "e8295d4c",
   "metadata": {},
   "outputs": [],
   "source": [
    "split_col = split(ol_works_df[\"value\"], \"\\t\")"
   ]
  },
  {
   "cell_type": "code",
   "execution_count": 6,
   "id": "924b77f3",
   "metadata": {},
   "outputs": [],
   "source": [
    "ol_works_df = ol_works_df.withColumn(\"type\", split_col.getItem(0))\n",
    "ol_works_df = ol_works_df.withColumn(\"work_key\", split_col.getItem(1))\n",
    "ol_works_df = ol_works_df.withColumn(\"revision\", split_col.getItem(2))\n",
    "ol_works_df = ol_works_df.withColumn(\"timestamp\", split_col.getItem(3))\n",
    "ol_works_df = ol_works_df.withColumn(\"json_data\", split_col.getItem(4))\n",
    "\n"
   ]
  },
  {
   "cell_type": "code",
   "execution_count": 7,
   "id": "fc00df72",
   "metadata": {},
   "outputs": [
    {
     "name": "stdout",
     "output_type": "stream",
     "text": [
      "+--------------------+----------+------------------+--------+--------------------+--------------------+\n",
      "|               value|      type|          work_key|revision|           timestamp|           json_data|\n",
      "+--------------------+----------+------------------+--------+--------------------+--------------------+\n",
      "|/type/work\\t/work...|/type/work|/works/OL10000315W|       1|2009-12-11T01:57:...|{\"title\": \"Qisas ...|\n",
      "|/type/work\\t/work...|/type/work|/works/OL10000836W|       4|2021-10-28T06:04:...|{\"title\": \"PowerP...|\n",
      "|/type/work\\t/work...|/type/work|/works/OL10000889W|       2|2022-12-30T06:49:...|{\"title\": \"La Rom...|\n",
      "|/type/work\\t/work...|/type/work|/works/OL10001324W|       3|2010-04-28T06:54:...|{\"title\": \"Art no...|\n",
      "|/type/work\\t/work...|/type/work| /works/OL1000141W|       4|2012-07-09T00:02:...|{\"title\": \"Das Re...|\n",
      "|/type/work\\t/work...|/type/work|/works/OL10001446W|       3|2010-04-28T06:54:...|{\"title\": \"Rome 2...|\n",
      "|/type/work\\t/work...|/type/work|/works/OL10001662W|       3|2010-04-28T06:54:...|{\"title\": \"Partir...|\n",
      "|/type/work\\t/work...|/type/work|/works/OL10001801W|       1|2009-12-11T01:57:...|{\"title\": \"Le p't...|\n",
      "|/type/work\\t/work...|/type/work|/works/OL10002285W|       1|2009-12-11T01:57:...|{\"title\": \"MALEST...|\n",
      "|/type/work\\t/work...|/type/work|/works/OL10002580W|       3|2010-04-28T06:54:...|{\"title\": \"Marie ...|\n",
      "|/type/work\\t/work...|/type/work|/works/OL10002611W|       3|2010-04-28T06:54:...|{\"title\": \"Le Ten...|\n",
      "|/type/work\\t/work...|/type/work|/works/OL10002655W|       3|2010-04-28T06:54:...|{\"title\": \"Rugby ...|\n",
      "|/type/work\\t/work...|/type/work|/works/OL10002707W|       3|2010-04-28T06:54:...|{\"title\": \"Le myt...|\n",
      "|/type/work\\t/work...|/type/work|/works/OL10003003W|       1|2009-12-11T01:57:...|{\"title\": \"Plan d...|\n",
      "|/type/work\\t/work...|/type/work| /works/OL1000356W|       4|2020-11-05T21:51:...|{\"created\": {\"typ...|\n",
      "|/type/work\\t/work...|/type/work|/works/OL10003588W|       3|2010-04-28T06:54:...|{\"title\": \"Compag...|\n",
      "|/type/work\\t/work...|/type/work|/works/OL10003906W|       3|2010-04-28T06:54:...|{\"title\": \"Musico...|\n",
      "|/type/work\\t/work...|/type/work|/works/OL10004022W|       3|2010-04-28T06:54:...|{\"title\": \"La gra...|\n",
      "|/type/work\\t/work...|/type/work|/works/OL10004189W|       3|2010-04-28T06:54:...|{\"title\": \"Journa...|\n",
      "|/type/work\\t/work...|/type/work|/works/OL10004279W|       3|2010-04-28T06:54:...|{\"title\": \"Creer ...|\n",
      "+--------------------+----------+------------------+--------+--------------------+--------------------+\n",
      "only showing top 20 rows\n",
      "\n"
     ]
    }
   ],
   "source": [
    "ol_works_df.show()"
   ]
  },
  {
   "cell_type": "code",
   "execution_count": 8,
   "id": "42dbbf89",
   "metadata": {},
   "outputs": [
    {
     "data": {
      "text/plain": [
       "['value', 'type', 'work_key', 'revision', 'timestamp', 'json_data']"
      ]
     },
     "execution_count": 8,
     "metadata": {},
     "output_type": "execute_result"
    }
   ],
   "source": [
    "ol_works_df.columns"
   ]
  },
  {
   "cell_type": "code",
   "execution_count": 9,
   "id": "06850cce",
   "metadata": {},
   "outputs": [],
   "source": [
    "json_works_data = ol_works_df.select(\"json_data\")"
   ]
  },
  {
   "cell_type": "code",
   "execution_count": 12,
   "id": "385ccd52",
   "metadata": {},
   "outputs": [
    {
     "data": {
      "text/plain": [
       "['value',\n",
       " 'type',\n",
       " 'work_key',\n",
       " 'revision',\n",
       " 'timestamp',\n",
       " 'json_data',\n",
       " 'title',\n",
       " 'author_key',\n",
       " 'description']"
      ]
     },
     "execution_count": 12,
     "metadata": {},
     "output_type": "execute_result"
    }
   ],
   "source": [
    "# Extract the 'name' field from the JSON data using get_json_object\n",
    "ol_works_df = ol_works_df.withColumn(\"title\", get_json_object(ol_works_df[\"json_data\"], \"$.title\"))\n",
    "ol_works_df = ol_works_df.withColumn(\"author_key\", get_json_object(ol_works_df[\"json_data\"], \"$.authors[0].author.key\"))\n",
    "ol_works_df = ol_works_df.withColumn(\"description\", when(get_json_object(ol_works_df[\"json_data\"], \"$.description\").isNotNull(),\n",
    "                                                         get_json_object(ol_works_df[\"json_data\"], \"$.description\"))\n",
    "                                              .otherwise(None))\n",
    "ol_works_df.columns"
   ]
  },
  {
   "cell_type": "code",
   "execution_count": 14,
   "id": "4bcabcce",
   "metadata": {},
   "outputs": [
    {
     "name": "stdout",
     "output_type": "stream",
     "text": [
      "+------------------+--------------------+-------------------+--------------------+\n",
      "|          work_key|               title|         author_key|         description|\n",
      "+------------------+--------------------+-------------------+--------------------+\n",
      "|/works/OL10000315W|  Qisas min al-hayah|/authors/OL3965336A|                null|\n",
      "|/works/OL10000836W|     PowerPoint 2000|/authors/OL3965931A|                null|\n",
      "|/works/OL10000889W|La Rome antique d...|/authors/OL3965988A|                null|\n",
      "|/works/OL10001324W|         Art nouveau|/authors/OL3966449A|                null|\n",
      "| /works/OL1000141W|Das Reich der Ins...|/authors/OL4740632A|                null|\n",
      "|/works/OL10001446W|           Rome 2002|/authors/OL3966612A|                null|\n",
      "|/works/OL10001662W|Partir etudier au...|/authors/OL3966842A|                null|\n",
      "|/works/OL10001801W|Le p'tit dico de ...|/authors/OL3966991A|                null|\n",
      "|/works/OL10002285W|MALESTROIT HIER E...|/authors/OL3967610A|                null|\n",
      "|/works/OL10002580W|Marie Durand et l...|/authors/OL3967978A|                null|\n",
      "|/works/OL10002611W|  Le Tennis de table|/authors/OL3968004A|                null|\n",
      "|/works/OL10002655W|Rugby tactique la...|/authors/OL3968076A|                null|\n",
      "|/works/OL10002707W| Le mythe du progres|/authors/OL3968126A|                null|\n",
      "|/works/OL10003003W|Plan de Marly-le-...|/authors/OL3968399A|                null|\n",
      "| /works/OL1000356W|   War of the robots|  /authors/OL92945A|{\"type\":\"/type/te...|\n",
      "|/works/OL10003588W|Compagnon Rituel ...|/authors/OL3969073A|                null|\n",
      "|/works/OL10003906W|Musicothérapie, p...|/authors/OL3969441A|                null|\n",
      "|/works/OL10004022W|   La grande horloge|/authors/OL3969554A|                null|\n",
      "|/works/OL10004189W|Journal d'un homm...|/authors/OL3969692A|                null|\n",
      "|/works/OL10004279W|Creer et piloter ...|/authors/OL3969824A|                null|\n",
      "+------------------+--------------------+-------------------+--------------------+\n",
      "only showing top 20 rows\n",
      "\n"
     ]
    }
   ],
   "source": [
    "works_key_df = ol_works_df.select(\"work_key\",\"title\",\"author_key\",\"description\")\n",
    "works_key_df.show()"
   ]
  },
  {
   "cell_type": "code",
   "execution_count": 18,
   "id": "679f905e",
   "metadata": {},
   "outputs": [
    {
     "name": "stderr",
     "output_type": "stream",
     "text": [
      "[Stage 7:=====================================================> (136 + 3) / 139]\r"
     ]
    },
    {
     "name": "stdout",
     "output_type": "stream",
     "text": [
      "Number of null values in 'description' column: 31972812\n",
      "Total number of works listed: 33235817\n",
      "Percentage with null description: 96.19986775110718\n"
     ]
    },
    {
     "name": "stderr",
     "output_type": "stream",
     "text": [
      "\r",
      "[Stage 7:=======================================================(139 + 0) / 139]\r",
      "\r",
      "                                                                                \r"
     ]
    }
   ],
   "source": [
    "# Why description won't work lol\n",
    "null_count = works_key_df.filter(col(\"description\").isNull()).count()\n",
    "works_count = works_key_df.count()\n",
    "percentage_null = (null_count / works_count)*100\n",
    "\n",
    "print(\"Number of null values in 'description' column:\", null_count)\n",
    "print(\"Total number of works listed:\", works_count)\n",
    "print(\"Percentage with null description:\", percentage_null)\n"
   ]
  },
  {
   "cell_type": "code",
   "execution_count": null,
   "id": "135a50da",
   "metadata": {},
   "outputs": [],
   "source": [
    "output_path = \"./data/works_key_parquet\"\n",
    "\n",
    "works_key_df = works_key_df.repartition(1)\n",
    "\n",
    "# Write the DataFrame to Parquet format\n",
    "works_key_df.write.parquet(output_path)"
   ]
  },
  {
   "cell_type": "code",
   "execution_count": null,
   "id": "fff7ee1f",
   "metadata": {},
   "outputs": [],
   "source": []
  },
  {
   "cell_type": "code",
   "execution_count": null,
   "id": "1b65349a",
   "metadata": {},
   "outputs": [],
   "source": []
  },
  {
   "cell_type": "code",
   "execution_count": null,
   "id": "9b46a73d",
   "metadata": {},
   "outputs": [],
   "source": []
  },
  {
   "cell_type": "code",
   "execution_count": null,
   "id": "27e22cb8",
   "metadata": {},
   "outputs": [],
   "source": []
  },
  {
   "cell_type": "code",
   "execution_count": null,
   "id": "8b4893b1",
   "metadata": {
    "scrolled": true
   },
   "outputs": [],
   "source": []
  },
  {
   "cell_type": "code",
   "execution_count": null,
   "id": "c3441be1",
   "metadata": {},
   "outputs": [],
   "source": []
  },
  {
   "cell_type": "code",
   "execution_count": null,
   "id": "deeaf192",
   "metadata": {},
   "outputs": [],
   "source": []
  }
 ],
 "metadata": {
  "kernelspec": {
   "display_name": "Python 3 (ipykernel)",
   "language": "python",
   "name": "python3"
  },
  "language_info": {
   "codemirror_mode": {
    "name": "ipython",
    "version": 3
   },
   "file_extension": ".py",
   "mimetype": "text/x-python",
   "name": "python",
   "nbconvert_exporter": "python",
   "pygments_lexer": "ipython3",
   "version": "3.9.13"
  }
 },
 "nbformat": 4,
 "nbformat_minor": 5
}
