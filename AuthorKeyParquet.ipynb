{
 "cells": [
  {
   "cell_type": "code",
   "execution_count": 1,
   "id": "bcb069a9",
   "metadata": {},
   "outputs": [],
   "source": [
    "from pyspark.sql import SparkSession\n",
    "from pyspark.sql.functions import split, get_json_object, collect_list"
   ]
  },
  {
   "cell_type": "code",
   "execution_count": 2,
   "id": "a872cf8b",
   "metadata": {},
   "outputs": [
    {
     "name": "stderr",
     "output_type": "stream",
     "text": [
      "23/08/01 19:52:21 WARN Utils: Your hostname, Stephanies-MacBook-Air.local resolves to a loopback address: 127.0.0.1; using 192.168.4.152 instead (on interface en0)\n",
      "23/08/01 19:52:21 WARN Utils: Set SPARK_LOCAL_IP if you need to bind to another address\n",
      "Setting default log level to \"WARN\".\n",
      "To adjust logging level use sc.setLogLevel(newLevel). For SparkR, use setLogLevel(newLevel).\n",
      "23/08/01 19:52:22 WARN NativeCodeLoader: Unable to load native-hadoop library for your platform... using builtin-java classes where applicable\n",
      "23/08/01 19:52:23 WARN Utils: Service 'SparkUI' could not bind on port 4040. Attempting port 4041.\n"
     ]
    }
   ],
   "source": [
    "spark = SparkSession.builder \\\n",
    "    .appName(\"ol_author\") \\\n",
    "    .getOrCreate()"
   ]
  },
  {
   "cell_type": "code",
   "execution_count": 3,
   "id": "bc7b7338",
   "metadata": {},
   "outputs": [
    {
     "name": "stderr",
     "output_type": "stream",
     "text": [
      "\r",
      "[Stage 0:>                                                          (0 + 1) / 1]\r"
     ]
    },
    {
     "name": "stdout",
     "output_type": "stream",
     "text": [
      "+--------------------+\n",
      "|               value|\n",
      "+--------------------+\n",
      "|/type/author\\t/au...|\n",
      "|/type/author\\t/au...|\n",
      "|/type/author\\t/au...|\n",
      "|/type/author\\t/au...|\n",
      "|/type/author\\t/au...|\n",
      "|/type/author\\t/au...|\n",
      "|/type/author\\t/au...|\n",
      "|/type/author\\t/au...|\n",
      "|/type/author\\t/au...|\n",
      "|/type/author\\t/au...|\n",
      "|/type/author\\t/au...|\n",
      "|/type/author\\t/au...|\n",
      "|/type/author\\t/au...|\n",
      "|/type/author\\t/au...|\n",
      "|/type/author\\t/au...|\n",
      "|/type/author\\t/au...|\n",
      "|/type/author\\t/au...|\n",
      "|/type/author\\t/au...|\n",
      "|/type/author\\t/au...|\n",
      "|/type/author\\t/au...|\n",
      "+--------------------+\n",
      "only showing top 20 rows\n",
      "\n"
     ]
    },
    {
     "name": "stderr",
     "output_type": "stream",
     "text": [
      "\r",
      "                                                                                \r"
     ]
    }
   ],
   "source": [
    "file_path = \"./data/ol_dump_authors_2023-06-30.txt\"\n",
    "ol_author_df = spark.read.text(file_path)\n",
    "ol_author_df.show()"
   ]
  },
  {
   "cell_type": "code",
   "execution_count": null,
   "id": "a3737053",
   "metadata": {},
   "outputs": [],
   "source": []
  },
  {
   "cell_type": "code",
   "execution_count": 4,
   "id": "e8295d4c",
   "metadata": {},
   "outputs": [],
   "source": [
    "split_col = split(ol_author_df[\"value\"], \"\\t\")"
   ]
  },
  {
   "cell_type": "code",
   "execution_count": 5,
   "id": "924b77f3",
   "metadata": {},
   "outputs": [],
   "source": [
    "ol_author_df = ol_author_df.withColumn(\"type\", split_col.getItem(0))\n",
    "ol_author_df = ol_author_df.withColumn(\"author_key\", split_col.getItem(1))\n",
    "ol_author_df = ol_author_df.withColumn(\"revision\", split_col.getItem(2))\n",
    "ol_author_df = ol_author_df.withColumn(\"timestamp\", split_col.getItem(3))\n",
    "ol_author_df = ol_author_df.withColumn(\"json_data\", split_col.getItem(4))\n",
    "\n"
   ]
  },
  {
   "cell_type": "code",
   "execution_count": 6,
   "id": "fc00df72",
   "metadata": {},
   "outputs": [
    {
     "name": "stdout",
     "output_type": "stream",
     "text": [
      "+--------------------+------------+--------------------+--------+--------------------+--------------------+\n",
      "|               value|        type|          author_key|revision|           timestamp|           json_data|\n",
      "+--------------------+------------+--------------------+--------+--------------------+--------------------+\n",
      "|/type/author\\t/au...|/type/author|/authors/OL10000175A|       1|2021-12-26T21:34:...|{\"type\": {\"key\": ...|\n",
      "|/type/author\\t/au...|/type/author|/authors/OL10000203A|       1|2021-12-26T21:36:...|{\"type\": {\"key\": ...|\n",
      "|/type/author\\t/au...|/type/author|/authors/OL10000507A|       1|2021-12-26T22:29:...|{\"type\": {\"key\": ...|\n",
      "|/type/author\\t/au...|/type/author|/authors/OL10000910A|       1|2021-12-26T23:32:...|{\"type\": {\"key\": ...|\n",
      "|/type/author\\t/au...|/type/author| /authors/OL1000146A|       2|2008-08-20T17:57:...|{\"name\": \"Ka\\u030...|\n",
      "|/type/author\\t/au...|/type/author|/authors/OL10001571A|       1|2021-12-27T01:18:...|{\"type\": {\"key\": ...|\n",
      "|/type/author\\t/au...|/type/author|/authors/OL10001765A|       1|2021-12-27T01:42:...|{\"type\": {\"key\": ...|\n",
      "|/type/author\\t/au...|/type/author| /authors/OL1000183A|       2|2008-08-20T17:57:...|{\"name\": \"H\\u0323...|\n",
      "|/type/author\\t/au...|/type/author|/authors/OL10002260A|       1|2021-12-27T02:45:...|{\"type\": {\"key\": ...|\n",
      "|/type/author\\t/au...|/type/author|/authors/OL10002453A|       1|2021-12-27T03:08:...|{\"type\": {\"key\": ...|\n",
      "|/type/author\\t/au...|/type/author|/authors/OL10002467A|       1|2021-12-27T03:10:...|{\"type\": {\"key\": ...|\n",
      "|/type/author\\t/au...|/type/author|/authors/OL10002472A|       1|2021-12-27T03:11:...|{\"type\": {\"key\": ...|\n",
      "|/type/author\\t/au...|/type/author|/authors/OL10002982A|       1|2021-12-27T04:23:...|{\"type\": {\"key\": ...|\n",
      "|/type/author\\t/au...|/type/author|/authors/OL10003680A|       1|2021-12-27T05:48:...|{\"type\": {\"key\": ...|\n",
      "|/type/author\\t/au...|/type/author|/authors/OL10003698A|       1|2021-12-27T05:49:...|{\"type\": {\"key\": ...|\n",
      "|/type/author\\t/au...|/type/author|/authors/OL10003792A|       1|2021-12-27T05:57:...|{\"type\": {\"key\": ...|\n",
      "|/type/author\\t/au...|/type/author|/authors/OL10003851A|       1|2021-12-27T06:00:...|{\"type\": {\"key\": ...|\n",
      "|/type/author\\t/au...|/type/author|/authors/OL10004199A|       1|2021-12-27T06:34:...|{\"type\": {\"key\": ...|\n",
      "|/type/author\\t/au...|/type/author|/authors/OL10004342A|       1|2021-12-27T06:53:...|{\"type\": {\"key\": ...|\n",
      "|/type/author\\t/au...|/type/author|/authors/OL10004348A|       1|2021-12-27T06:53:...|{\"type\": {\"key\": ...|\n",
      "+--------------------+------------+--------------------+--------+--------------------+--------------------+\n",
      "only showing top 20 rows\n",
      "\n"
     ]
    }
   ],
   "source": [
    "ol_author_df.show()"
   ]
  },
  {
   "cell_type": "code",
   "execution_count": 7,
   "id": "42dbbf89",
   "metadata": {},
   "outputs": [
    {
     "data": {
      "text/plain": [
       "['value', 'type', 'author_key', 'revision', 'timestamp', 'json_data']"
      ]
     },
     "execution_count": 7,
     "metadata": {},
     "output_type": "execute_result"
    }
   ],
   "source": [
    "ol_author_df.columns"
   ]
  },
  {
   "cell_type": "code",
   "execution_count": 8,
   "id": "06850cce",
   "metadata": {},
   "outputs": [],
   "source": [
    "json_author_data = ol_author_df.select(\"json_data\")"
   ]
  },
  {
   "cell_type": "code",
   "execution_count": 20,
   "id": "385ccd52",
   "metadata": {},
   "outputs": [
    {
     "data": {
      "text/plain": [
       "['value',\n",
       " 'type',\n",
       " 'author_key',\n",
       " 'revision',\n",
       " 'timestamp',\n",
       " 'json_data',\n",
       " 'author_name']"
      ]
     },
     "execution_count": 20,
     "metadata": {},
     "output_type": "execute_result"
    }
   ],
   "source": [
    "# Extract the 'name' field from the JSON data using get_json_object\n",
    "ol_author_df = ol_author_df.withColumn(\"author_name\", get_json_object(ol_author_df[\"json_data\"], \"$.name\"))\n",
    "ol_author_df.columns"
   ]
  },
  {
   "cell_type": "code",
   "execution_count": 10,
   "id": "4bcabcce",
   "metadata": {},
   "outputs": [
    {
     "name": "stdout",
     "output_type": "stream",
     "text": [
      "+--------------------+--------------------+\n",
      "|          author_key|         author_name|\n",
      "+--------------------+--------------------+\n",
      "|/authors/OL10000175A| angel-rose sandoval|\n",
      "|/authors/OL10000203A|     Thomas Stippich|\n",
      "|/authors/OL10000507A|Maximilian Stefan...|\n",
      "|/authors/OL10000910A|Beckel, James A.,...|\n",
      "| /authors/OL1000146A|    Kāẓim Ḥajjāj|\n",
      "|/authors/OL10001571A|     Don J. Champion|\n",
      "|/authors/OL10001765A|        Norfrid Klug|\n",
      "| /authors/OL1000183A|Ḥammūd Ḥammād...|\n",
      "|/authors/OL10002260A|       Andrea Berndt|\n",
      "|/authors/OL10002453A|      Sarajane Trier|\n",
      "|/authors/OL10002467A|   Laura Laura Wayth|\n",
      "|/authors/OL10002472A|        Yuri M. Rios|\n",
      "|/authors/OL10002982A|           Karl Haag|\n",
      "|/authors/OL10003680A|          Rhodes Tom|\n",
      "|/authors/OL10003698A|        Jurgen Ebert|\n",
      "|/authors/OL10003792A|    Martina Ankarfyr|\n",
      "|/authors/OL10003851A|           Elle King|\n",
      "|/authors/OL10004199A|          Pat Murphy|\n",
      "|/authors/OL10004342A|  Merve Urem Cetinel|\n",
      "|/authors/OL10004348A|              Rixton|\n",
      "+--------------------+--------------------+\n",
      "only showing top 20 rows\n",
      "\n"
     ]
    }
   ],
   "source": [
    "author_key_df = ol_author_df.select(\"author_key\",\"author_name\")\n",
    "author_key_df.show()"
   ]
  },
  {
   "cell_type": "code",
   "execution_count": 21,
   "id": "679f905e",
   "metadata": {},
   "outputs": [
    {
     "name": "stderr",
     "output_type": "stream",
     "text": [
      "[Stage 18:======================================================> (32 + 1) / 33]\r"
     ]
    },
    {
     "name": "stdout",
     "output_type": "stream",
     "text": [
      "+--------------------+--------------------+\n",
      "|          author_key|         author_name|\n",
      "+--------------------+--------------------+\n",
      "| /authors/OL9072096A|   Bruce Alan Ekholt|\n",
      "| /authors/OL2313307A|Universidad de Se...|\n",
      "| /authors/OL7442871A|Salt Lake Oratori...|\n",
      "| /authors/OL5538948A|Muḥammad ibn Musl...|\n",
      "| /authors/OL1193645A|Dahlem Workshop o...|\n",
      "| /authors/OL7073368A| Fernando Pérez Royo|\n",
      "| /authors/OL6060113A|Deutsche National...|\n",
      "| /authors/OL9609646A|     R. D. . Gardner|\n",
      "| /authors/OL9389082A|    Jeremiah Spencer|\n",
      "| /authors/OL4636498A|    D. A. Kiristutās|\n",
      "| /authors/OL2725013A|           Ed Flower|\n",
      "| /authors/OL4644223A|       Armin Germann|\n",
      "| /authors/OL2096583A|Doulton and Company.|\n",
      "|/authors/OL10395947A|         Bill Siever|\n",
      "| /authors/OL2516399A|   Dabney, Virginius|\n",
      "| /authors/OL6363387A| Matthias Elsdörfer|\n",
      "|/authors/OL10455335A|     Carla Raffaelli|\n",
      "| /authors/OL1576521A|      Pippo Carrubba|\n",
      "| /authors/OL3760852A|Tommie L. Watkins...|\n",
      "| /authors/OL7006118A|    Daniel Appelbaum|\n",
      "+--------------------+--------------------+\n",
      "only showing top 20 rows\n",
      "\n"
     ]
    },
    {
     "name": "stderr",
     "output_type": "stream",
     "text": [
      "\r",
      "                                                                                \r"
     ]
    }
   ],
   "source": [
    "author_df = ol_author_df.drop(\"value\", \"type\", \"revision\", \"timestamp\",\"json_data\")\n",
    "author_df.show()"
   ]
  },
  {
   "cell_type": "code",
   "execution_count": 24,
   "id": "135a50da",
   "metadata": {},
   "outputs": [
    {
     "name": "stderr",
     "output_type": "stream",
     "text": [
      "                                                                                \r"
     ]
    }
   ],
   "source": [
    "output_path = \"./data/author_dataframe\"\n",
    "\n",
    "author_df = author_df.repartition(1)\n",
    "\n",
    "# Write the DataFrame to Parquet format\n",
    "author_df.write.parquet(output_path)"
   ]
  },
  {
   "cell_type": "code",
   "execution_count": 25,
   "id": "fff7ee1f",
   "metadata": {},
   "outputs": [],
   "source": [
    "# output_path = \"./data/ol_author_key.csv\"\n",
    "# # Write the Spark DataFrame to a CSV file\n",
    "# author_key_df.write.option(\"header\", \"true\").csv(output_path)"
   ]
  },
  {
   "cell_type": "code",
   "execution_count": 19,
   "id": "1b65349a",
   "metadata": {},
   "outputs": [
    {
     "name": "stderr",
     "output_type": "stream",
     "text": [
      "                                                                                \r"
     ]
    }
   ],
   "source": []
  },
  {
   "cell_type": "code",
   "execution_count": null,
   "id": "9b46a73d",
   "metadata": {},
   "outputs": [],
   "source": []
  },
  {
   "cell_type": "code",
   "execution_count": null,
   "id": "27e22cb8",
   "metadata": {},
   "outputs": [],
   "source": []
  },
  {
   "cell_type": "code",
   "execution_count": null,
   "id": "8b4893b1",
   "metadata": {
    "scrolled": true
   },
   "outputs": [],
   "source": []
  },
  {
   "cell_type": "code",
   "execution_count": null,
   "id": "c3441be1",
   "metadata": {},
   "outputs": [],
   "source": []
  },
  {
   "cell_type": "code",
   "execution_count": null,
   "id": "deeaf192",
   "metadata": {},
   "outputs": [],
   "source": []
  }
 ],
 "metadata": {
  "kernelspec": {
   "display_name": "Python 3 (ipykernel)",
   "language": "python",
   "name": "python3"
  },
  "language_info": {
   "codemirror_mode": {
    "name": "ipython",
    "version": 3
   },
   "file_extension": ".py",
   "mimetype": "text/x-python",
   "name": "python",
   "nbconvert_exporter": "python",
   "pygments_lexer": "ipython3",
   "version": "3.9.13"
  }
 },
 "nbformat": 4,
 "nbformat_minor": 5
}
