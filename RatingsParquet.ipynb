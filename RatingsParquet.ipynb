{
 "cells": [
  {
   "cell_type": "code",
   "execution_count": 1,
   "id": "bcb069a9",
   "metadata": {},
   "outputs": [],
   "source": [
    "from pyspark.sql import SparkSession\n",
    "from pyspark.sql.functions import split, get_json_object, collect_list\n",
    "import pandas as pd\n"
   ]
  },
  {
   "cell_type": "code",
   "execution_count": 2,
   "id": "a872cf8b",
   "metadata": {},
   "outputs": [
    {
     "name": "stderr",
     "output_type": "stream",
     "text": [
      "23/08/05 09:18:23 WARN Utils: Your hostname, Stephanies-MacBook-Air.local resolves to a loopback address: 127.0.0.1; using 192.168.4.152 instead (on interface en0)\n",
      "23/08/05 09:18:23 WARN Utils: Set SPARK_LOCAL_IP if you need to bind to another address\n",
      "Setting default log level to \"WARN\".\n",
      "To adjust logging level use sc.setLogLevel(newLevel). For SparkR, use setLogLevel(newLevel).\n",
      "23/08/05 09:18:24 WARN NativeCodeLoader: Unable to load native-hadoop library for your platform... using builtin-java classes where applicable\n",
      "23/08/05 09:18:25 WARN Utils: Service 'SparkUI' could not bind on port 4040. Attempting port 4041.\n"
     ]
    }
   ],
   "source": [
    "spark = SparkSession.builder \\\n",
    "    .appName(\"ol_ratings\") \\\n",
    "    .getOrCreate()"
   ]
  },
  {
   "cell_type": "code",
   "execution_count": 3,
   "id": "bc7b7338",
   "metadata": {},
   "outputs": [
    {
     "name": "stderr",
     "output_type": "stream",
     "text": [
      "\r",
      "[Stage 0:>                                                          (0 + 1) / 1]\r"
     ]
    },
    {
     "name": "stdout",
     "output_type": "stream",
     "text": [
      "+-----------------------------------------------------+\n",
      "|value                                                |\n",
      "+-----------------------------------------------------+\n",
      "|/works/OL17882343W\\t\\t3\\t2018-06-20                  |\n",
      "|/works/OL1629179W\\t/books/OL22981670M\\t5\\t2018-06-20 |\n",
      "|/works/OL4226036W\\t/books/OL10690412M\\t5\\t2018-06-20 |\n",
      "|/works/OL5264255W\\t/books/OL2719185M\\t5\\t2018-06-20  |\n",
      "|/works/OL1681415W\\t/books/OL2582724M\\t5\\t2018-06-20  |\n",
      "|/works/OL1837390W\\t\\t5\\t2018-06-20                   |\n",
      "|/works/OL1853596W\\t/books/OL2331075M\\t2\\t2018-06-20  |\n",
      "|/works/OL9468629W\\t/books/OL10694710M\\t5\\t2022-09-27 |\n",
      "|/works/OL15197048W\\t\\t5\\t2018-06-19                  |\n",
      "|/works/OL465360W\\t/books/OL26427670M\\t5\\t2018-06-20  |\n",
      "|/works/OL18342W\\t/books/OL26445972M\\t4\\t2018-06-20   |\n",
      "|/works/OL17101519W\\t\\t5\\t2018-06-20                  |\n",
      "|/works/OL26500W\\t/books/OL7153895M\\t5\\t2018-05-05    |\n",
      "|/works/OL1089321W\\t\\t5\\t2018-05-05                   |\n",
      "|/works/OL3754816W\\t/books/OL17387729M\\t3\\t2018-06-20 |\n",
      "|/works/OL3512837W\\t\\t5\\t2018-06-20                   |\n",
      "|/works/OL21694147W\\t/books/OL33825158M\\t5\\t2022-09-27|\n",
      "|/works/OL1821254W\\t\\t5\\t2018-06-20                   |\n",
      "|/works/OL4278294W\\t/books/OL10241483M\\t3\\t2018-06-20 |\n",
      "|/works/OL15836355W\\t\\t1\\t2018-06-20                  |\n",
      "+-----------------------------------------------------+\n",
      "only showing top 20 rows\n",
      "\n"
     ]
    },
    {
     "name": "stderr",
     "output_type": "stream",
     "text": [
      "\r",
      "                                                                                \r"
     ]
    }
   ],
   "source": [
    "file_path = \"./ol_dump_ratings_2023-07-31.txt\"\n",
    "ol_ratings_df = spark.read.text(file_path)\n",
    "ol_ratings_df.show(truncate=False)"
   ]
  },
  {
   "cell_type": "code",
   "execution_count": 4,
   "id": "a3737053",
   "metadata": {},
   "outputs": [
    {
     "data": {
      "text/html": [
       "<div>\n",
       "<style scoped>\n",
       "    .dataframe tbody tr th:only-of-type {\n",
       "        vertical-align: middle;\n",
       "    }\n",
       "\n",
       "    .dataframe tbody tr th {\n",
       "        vertical-align: top;\n",
       "    }\n",
       "\n",
       "    .dataframe thead th {\n",
       "        text-align: right;\n",
       "    }\n",
       "</style>\n",
       "<table border=\"1\" class=\"dataframe\">\n",
       "  <thead>\n",
       "    <tr style=\"text-align: right;\">\n",
       "      <th></th>\n",
       "      <th>work_key</th>\n",
       "      <th>rating</th>\n",
       "      <th>date</th>\n",
       "    </tr>\n",
       "  </thead>\n",
       "  <tbody>\n",
       "    <tr>\n",
       "      <th>0</th>\n",
       "      <td>/works/OL17882343W</td>\n",
       "      <td>3</td>\n",
       "      <td>2018-06-20</td>\n",
       "    </tr>\n",
       "    <tr>\n",
       "      <th>1</th>\n",
       "      <td>/works/OL1629179W</td>\n",
       "      <td>5</td>\n",
       "      <td>2018-06-20</td>\n",
       "    </tr>\n",
       "    <tr>\n",
       "      <th>2</th>\n",
       "      <td>/works/OL4226036W</td>\n",
       "      <td>5</td>\n",
       "      <td>2018-06-20</td>\n",
       "    </tr>\n",
       "    <tr>\n",
       "      <th>3</th>\n",
       "      <td>/works/OL5264255W</td>\n",
       "      <td>5</td>\n",
       "      <td>2018-06-20</td>\n",
       "    </tr>\n",
       "    <tr>\n",
       "      <th>4</th>\n",
       "      <td>/works/OL1681415W</td>\n",
       "      <td>5</td>\n",
       "      <td>2018-06-20</td>\n",
       "    </tr>\n",
       "    <tr>\n",
       "      <th>...</th>\n",
       "      <td>...</td>\n",
       "      <td>...</td>\n",
       "      <td>...</td>\n",
       "    </tr>\n",
       "    <tr>\n",
       "      <th>394148</th>\n",
       "      <td>/works/OL461939W</td>\n",
       "      <td>3</td>\n",
       "      <td>2022-07-30</td>\n",
       "    </tr>\n",
       "    <tr>\n",
       "      <th>394149</th>\n",
       "      <td>/works/OL16247363W</td>\n",
       "      <td>3</td>\n",
       "      <td>2022-07-30</td>\n",
       "    </tr>\n",
       "    <tr>\n",
       "      <th>394150</th>\n",
       "      <td>/works/OL8299102W</td>\n",
       "      <td>4</td>\n",
       "      <td>2022-07-30</td>\n",
       "    </tr>\n",
       "    <tr>\n",
       "      <th>394151</th>\n",
       "      <td>/works/OL15191772W</td>\n",
       "      <td>4</td>\n",
       "      <td>2022-07-30</td>\n",
       "    </tr>\n",
       "    <tr>\n",
       "      <th>394152</th>\n",
       "      <td>/works/OL16238006W</td>\n",
       "      <td>5</td>\n",
       "      <td>2022-07-30</td>\n",
       "    </tr>\n",
       "  </tbody>\n",
       "</table>\n",
       "<p>394153 rows × 3 columns</p>\n",
       "</div>"
      ],
      "text/plain": [
       "                  work_key rating        date\n",
       "0       /works/OL17882343W      3  2018-06-20\n",
       "1        /works/OL1629179W      5  2018-06-20\n",
       "2        /works/OL4226036W      5  2018-06-20\n",
       "3        /works/OL5264255W      5  2018-06-20\n",
       "4        /works/OL1681415W      5  2018-06-20\n",
       "...                    ...    ...         ...\n",
       "394148    /works/OL461939W      3  2022-07-30\n",
       "394149  /works/OL16247363W      3  2022-07-30\n",
       "394150   /works/OL8299102W      4  2022-07-30\n",
       "394151  /works/OL15191772W      4  2022-07-30\n",
       "394152  /works/OL16238006W      5  2022-07-30\n",
       "\n",
       "[394153 rows x 3 columns]"
      ]
     },
     "metadata": {},
     "output_type": "display_data"
    }
   ],
   "source": [
    "\n",
    "ratings_data = []  # List to store the data\n",
    "\n",
    "# Read the data from the text file line by line, skip missing values\n",
    "with open(file_path, 'r') as file:\n",
    "    for line in file:\n",
    "        columns = line.strip().split('\\t')\n",
    "        if len(columns) < 4:\n",
    "            columns.insert(1, '')\n",
    "        ratings_data.append(columns)\n",
    "\n",
    "# Create a pandas DataFrame from the list of data\n",
    "df = pd.DataFrame(ratings_data)\n",
    "\n",
    "# Select the desired columns (first, second-to-last, and last)\n",
    "ratings_df = df.iloc[:, [0, -2, -1]]\n",
    "\n",
    "# Rename the columns for clarity\n",
    "ratings_df.columns = ['work_key', 'rating', 'date']\n",
    "\n",
    "# Display the new dataframe\n",
    "display(ratings_df)"
   ]
  },
  {
   "cell_type": "code",
   "execution_count": 5,
   "id": "e8295d4c",
   "metadata": {},
   "outputs": [],
   "source": [
    "# ratings_df.to_csv('ratings_data.csv', index=False)\n"
   ]
  },
  {
   "cell_type": "code",
   "execution_count": null,
   "id": "a31800e0",
   "metadata": {},
   "outputs": [],
   "source": []
  },
  {
   "cell_type": "code",
   "execution_count": null,
   "id": "924b77f3",
   "metadata": {},
   "outputs": [],
   "source": []
  },
  {
   "cell_type": "code",
   "execution_count": null,
   "id": "fc00df72",
   "metadata": {},
   "outputs": [],
   "source": []
  },
  {
   "cell_type": "code",
   "execution_count": null,
   "id": "42dbbf89",
   "metadata": {},
   "outputs": [],
   "source": []
  },
  {
   "cell_type": "code",
   "execution_count": null,
   "id": "06850cce",
   "metadata": {},
   "outputs": [],
   "source": []
  },
  {
   "cell_type": "code",
   "execution_count": null,
   "id": "385ccd52",
   "metadata": {},
   "outputs": [],
   "source": []
  },
  {
   "cell_type": "code",
   "execution_count": null,
   "id": "4bcabcce",
   "metadata": {},
   "outputs": [],
   "source": []
  },
  {
   "cell_type": "code",
   "execution_count": null,
   "id": "679f905e",
   "metadata": {},
   "outputs": [],
   "source": []
  },
  {
   "cell_type": "code",
   "execution_count": null,
   "id": "135a50da",
   "metadata": {},
   "outputs": [],
   "source": []
  },
  {
   "cell_type": "code",
   "execution_count": null,
   "id": "fff7ee1f",
   "metadata": {},
   "outputs": [],
   "source": []
  },
  {
   "cell_type": "code",
   "execution_count": null,
   "id": "1b65349a",
   "metadata": {},
   "outputs": [],
   "source": []
  },
  {
   "cell_type": "code",
   "execution_count": null,
   "id": "9b46a73d",
   "metadata": {},
   "outputs": [],
   "source": []
  },
  {
   "cell_type": "code",
   "execution_count": null,
   "id": "27e22cb8",
   "metadata": {},
   "outputs": [],
   "source": []
  },
  {
   "cell_type": "code",
   "execution_count": null,
   "id": "8b4893b1",
   "metadata": {
    "scrolled": true
   },
   "outputs": [],
   "source": []
  },
  {
   "cell_type": "code",
   "execution_count": null,
   "id": "c3441be1",
   "metadata": {},
   "outputs": [],
   "source": []
  },
  {
   "cell_type": "code",
   "execution_count": null,
   "id": "deeaf192",
   "metadata": {},
   "outputs": [],
   "source": []
  }
 ],
 "metadata": {
  "kernelspec": {
   "display_name": "Python 3 (ipykernel)",
   "language": "python",
   "name": "python3"
  },
  "language_info": {
   "codemirror_mode": {
    "name": "ipython",
    "version": 3
   },
   "file_extension": ".py",
   "mimetype": "text/x-python",
   "name": "python",
   "nbconvert_exporter": "python",
   "pygments_lexer": "ipython3",
   "version": "3.9.13"
  }
 },
 "nbformat": 4,
 "nbformat_minor": 5
}
