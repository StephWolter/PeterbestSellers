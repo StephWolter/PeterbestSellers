{
 "cells": [
  {
   "cell_type": "code",
   "execution_count": 62,
   "id": "e0850e06",
   "metadata": {},
   "outputs": [],
   "source": [
    "import csv\n",
    "import sys\n",
    "import ctypes as ct\n",
    "import os\n",
    "from os.path import join\n",
    "import json\n",
    "import pprint as pp\n",
    "import pandas as pd\n",
    "from datetime import datetime\n"
   ]
  },
  {
   "cell_type": "code",
   "execution_count": 2,
   "id": "e338136f",
   "metadata": {},
   "outputs": [
    {
     "name": "stdout",
     "output_type": "stream",
     "text": [
      "/type/edition\t/books/OL10000090M\t2\t2010-03-12T00:00:48.298004\t{\"publishers\": [\"Stationery Office Books\"], \"physical_format\": \"Paperback\", \"subjects\": [\"Central government\", \"United Kingdom, Great Britain\"], \"created\": {\"type\": \"/type/datetime\", \"value\": \"2008-04-30T09:38:13.731961\"}, \"isbn_10\": [\"0107717735\"], \"number_of_pages\": 10, \"isbn_13\": [\"9780107717735\"], \"last_modified\": {\"type\": \"/type/datetime\", \"value\": \"2010-03-12T00:00:48.298004\"}, \"publish_date\": \"July 2, 1999\", \"key\": \"/books/OL10000090M\", \"authors\": [{\"key\": \"/authors/OL46053A\"}], \"title\": \"Index to the House of Lords Parliamentary Debates\", \"latest_revision\": 2, \"works\": [{\"key\": \"/works/OL14903346W\"}], \"type\": {\"key\": \"/type/edition\"}, \"revision\": 2}\n",
      "\n"
     ]
    }
   ],
   "source": [
    "with open('ol_dump_editions_2023-06-30.txt') as input_file:\n",
    "    firstrow = next(input_file)\n",
    "    print(firstrow)"
   ]
  },
  {
   "cell_type": "code",
   "execution_count": 60,
   "id": "0d960bc2",
   "metadata": {},
   "outputs": [
    {
     "name": "stdout",
     "output_type": "stream",
     "text": [
      "{'authors': [{'key': '/authors/OL46053A'}],\n",
      " 'created': {'type': '/type/datetime', 'value': '2008-04-30T09:38:13.731961'},\n",
      " 'isbn_10': ['0107717735'],\n",
      " 'isbn_13': ['9780107717735'],\n",
      " 'key': '/books/OL10000090M',\n",
      " 'last_modified': {'type': '/type/datetime',\n",
      "                   'value': '2010-03-12T00:00:48.298004'},\n",
      " 'latest_revision': 2,\n",
      " 'number_of_pages': 10,\n",
      " 'physical_format': 'Paperback',\n",
      " 'publish_date': 'July 2, 1999',\n",
      " 'publishers': ['Stationery Office Books'],\n",
      " 'revision': 2,\n",
      " 'subjects': ['Central government', 'United Kingdom, Great Britain'],\n",
      " 'title': 'Index to the House of Lords Parliamentary Debates',\n",
      " 'type': {'key': '/type/edition'},\n",
      " 'works': [{'key': '/works/OL14903346W'}]}\n"
     ]
    }
   ],
   "source": [
    "with open('ol_dump_editions_2023-06-30.txt') as cvsinputfile:\n",
    "    csvreader = csv.reader(cvsinputfile, delimiter='\\t') # CREATE READER\n",
    "    firstrow = next(csvreader)\n",
    "    j_firstrow = json.loads(firstrow[4])\n",
    "    pp.pprint(j_firstrow)"
   ]
  },
  {
   "cell_type": "code",
   "execution_count": 63,
   "id": "8d237626",
   "metadata": {},
   "outputs": [
    {
     "data": {
      "text/plain": [
       "datetime.date(2022, 11, 21)"
      ]
     },
     "execution_count": 63,
     "metadata": {},
     "output_type": "execute_result"
    }
   ],
   "source": [
    "cdate_str = j_firstrow['created']['value']\n",
    "cdate_dt_obj = datetime.strptime(cdate, '%Y-%m-%dT%H:%M:%S.%f')\n",
    "cdate = cdate_dt_obj.date()\n",
    "cdate"
   ]
  },
  {
   "cell_type": "code",
   "execution_count": null,
   "id": "082fe438",
   "metadata": {},
   "outputs": [],
   "source": [
    "lines_to_check = 10000000\n",
    "books_data = []\n",
    "with open('ol_dump_editions_2023-06-30.txt') as cvsinputfile:\n",
    "    csvreader = csv.reader(cvsinputfile, delimiter='\\t') # CREATE READER\n",
    "    for i in range(lines_to_check):\n",
    "#     for row in csvreader:\n",
    "        try:\n",
    "            book_data = next(csvreader)[4]\n",
    "            book_json = json.loads(book_data)\n",
    "            cdate_str = book_json['created']['value']\n",
    "            cdate_obj = datetime.strptime(cdate_str, '%Y-%m-%dT%H:%M:%S.%f')\n",
    "            start_date = datetime(2023, 5, 1, 0, 0)\n",
    "            lang = book_json['languages'][0]['key']\n",
    "            \n",
    "            if (cdate_obj > start_date) & (lang == '/languages/eng'):          \n",
    "#                 book_dict = {\n",
    "#                     'author': book_json['authors'],\n",
    "#                     'title': book_json['title'],\n",
    "#                     'date': cdate_obj.date(),\n",
    "#                     'publisher': book_json['publishers'],\n",
    "#                     'classifications': book_json['classifications'],\n",
    "#                     'description': book_json['description']['value'],\n",
    "#                     'number_of_pages': book_json['number_of_pages'],\n",
    "#                     'physical_format': book_json['physical_format']\n",
    "#                 }\n",
    "                \n",
    "                books_data.append(book_json)\n",
    "                \n",
    "        except:\n",
    "            pass\n",
    "                \n",
    "pp.pprint(books_data)"
   ]
  },
  {
   "cell_type": "code",
   "execution_count": null,
   "id": "ca367c7d",
   "metadata": {},
   "outputs": [],
   "source": [
    "small_filename = 'ol_editions.csv'\n",
    "csvoutputfile = open(small_filename, \"w\", newline='')\n",
    "csvwriter = csv.writer(csvoutputfile)\n",
    "for book in books_data:\n",
    "    csvwriter.writerow(book)"
   ]
  },
  {
   "cell_type": "code",
   "execution_count": 56,
   "id": "0445bd03",
   "metadata": {},
   "outputs": [
    {
     "name": "stdout",
     "output_type": "stream",
     "text": [
      "45044234\n"
     ]
    }
   ],
   "source": [
    "with open('ol_dump_editions_2023-06-30.txt') as cvsinputfile:\n",
    "    csvreader = csv.reader(cvsinputfile, delimiter='\\t') # CREATE READER\n",
    "    rowcount = sum(1 for row in csvreader)\n",
    "    print(rowcount)"
   ]
  },
  {
   "cell_type": "code",
   "execution_count": 57,
   "id": "f0c994bd",
   "metadata": {},
   "outputs": [
    {
     "data": {
      "text/html": [
       "<div>\n",
       "<style scoped>\n",
       "    .dataframe tbody tr th:only-of-type {\n",
       "        vertical-align: middle;\n",
       "    }\n",
       "\n",
       "    .dataframe tbody tr th {\n",
       "        vertical-align: top;\n",
       "    }\n",
       "\n",
       "    .dataframe thead th {\n",
       "        text-align: right;\n",
       "    }\n",
       "</style>\n",
       "<table border=\"1\" class=\"dataframe\">\n",
       "  <thead>\n",
       "    <tr style=\"text-align: right;\">\n",
       "      <th></th>\n",
       "      <th>author</th>\n",
       "      <th>title</th>\n",
       "      <th>date</th>\n",
       "      <th>publisher</th>\n",
       "      <th>description</th>\n",
       "    </tr>\n",
       "  </thead>\n",
       "  <tbody>\n",
       "    <tr>\n",
       "      <th>0</th>\n",
       "      <td>[{'key': '/authors/OL9162102A'}]</td>\n",
       "      <td>The party line online</td>\n",
       "      <td>2022-12-31 19:12:09.617601</td>\n",
       "      <td>[Association for Education in Journalism and M...</td>\n",
       "      <td>\"During a 6-month period analyzed in this stud...</td>\n",
       "    </tr>\n",
       "    <tr>\n",
       "      <th>1</th>\n",
       "      <td>[{'key': '/authors/OL2304804A'}]</td>\n",
       "      <td>Nurse Conner comes home</td>\n",
       "      <td>2022-12-31 22:10:24.236520</td>\n",
       "      <td>[Ace Books]</td>\n",
       "      <td>A romantic triangle creates complications invo...</td>\n",
       "    </tr>\n",
       "    <tr>\n",
       "      <th>2</th>\n",
       "      <td>[{'key': '/authors/OL751276A'}]</td>\n",
       "      <td>Marti Friedlander</td>\n",
       "      <td>2023-01-01 03:45:06.536492</td>\n",
       "      <td>[Auckland University Press]</td>\n",
       "      <td>Career of Marti Friedlander showing her work t...</td>\n",
       "    </tr>\n",
       "    <tr>\n",
       "      <th>3</th>\n",
       "      <td>[{'key': '/authors/OL12082153A'}]</td>\n",
       "      <td>English subtitled script of 'Atithi' ('The Run...</td>\n",
       "      <td>2023-01-02 03:21:08.230627</td>\n",
       "      <td>[(Exhibitors) Private Ltd.]</td>\n",
       "      <td>Censor script of a Bengali moving-picture.</td>\n",
       "    </tr>\n",
       "    <tr>\n",
       "      <th>4</th>\n",
       "      <td>[{'key': '/authors/OL12128153A'}]</td>\n",
       "      <td>Introduction to Superfund enforcement</td>\n",
       "      <td>2023-01-06 11:32:11.430133</td>\n",
       "      <td>[The Office, Distributed by EPA NETI, National...</td>\n",
       "      <td>Designed to train EPA and state and local offi...</td>\n",
       "    </tr>\n",
       "    <tr>\n",
       "      <th>...</th>\n",
       "      <td>...</td>\n",
       "      <td>...</td>\n",
       "      <td>...</td>\n",
       "      <td>...</td>\n",
       "      <td>...</td>\n",
       "    </tr>\n",
       "    <tr>\n",
       "      <th>121</th>\n",
       "      <td>[{'key': '/authors/OL12525195A'}]</td>\n",
       "      <td>Hamilton and Jefferson on democracy</td>\n",
       "      <td>2023-03-08 05:17:52.796016</td>\n",
       "      <td>[Encyclopaedia Britannica Educational Corporat...</td>\n",
       "      <td>Alexander Hamilton and Thomas Jefferson are ta...</td>\n",
       "    </tr>\n",
       "    <tr>\n",
       "      <th>122</th>\n",
       "      <td>[{'key': '/authors/OL846796A'}]</td>\n",
       "      <td>William Shakespeare</td>\n",
       "      <td>2023-03-08 13:21:09.340000</td>\n",
       "      <td>[A&amp;E Home Video, [Marketed and distributed in ...</td>\n",
       "      <td>A biography of the greatest writer in the Engl...</td>\n",
       "    </tr>\n",
       "    <tr>\n",
       "      <th>123</th>\n",
       "      <td>[{'key': '/authors/OL5693808A'}]</td>\n",
       "      <td>Report of the Representative of the Secretary-...</td>\n",
       "      <td>2023-05-03 04:31:50.964069</td>\n",
       "      <td>[UN]</td>\n",
       "      <td>Reviews the development of the Guiding Princip...</td>\n",
       "    </tr>\n",
       "    <tr>\n",
       "      <th>124</th>\n",
       "      <td>[{'key': '/authors/OL6444417A'}]</td>\n",
       "      <td>Correlated Equilibrium and Nash Equilibrium as...</td>\n",
       "      <td>2023-05-27 23:52:07.124780</td>\n",
       "      <td>[Division of Research, Harvard Business School]</td>\n",
       "      <td>Noncooperative games are examined from the poi...</td>\n",
       "    </tr>\n",
       "    <tr>\n",
       "      <th>125</th>\n",
       "      <td>[{'key': '/authors/OL12882893A'}]</td>\n",
       "      <td>Judex - judging the fields</td>\n",
       "      <td>2023-05-28 15:00:48.300240</td>\n",
       "      <td>[Hesperian Press]</td>\n",
       "      <td>\"The short stories presented here are from the...</td>\n",
       "    </tr>\n",
       "  </tbody>\n",
       "</table>\n",
       "<p>126 rows × 5 columns</p>\n",
       "</div>"
      ],
      "text/plain": [
       "                                author   \n",
       "0     [{'key': '/authors/OL9162102A'}]  \\\n",
       "1     [{'key': '/authors/OL2304804A'}]   \n",
       "2      [{'key': '/authors/OL751276A'}]   \n",
       "3    [{'key': '/authors/OL12082153A'}]   \n",
       "4    [{'key': '/authors/OL12128153A'}]   \n",
       "..                                 ...   \n",
       "121  [{'key': '/authors/OL12525195A'}]   \n",
       "122    [{'key': '/authors/OL846796A'}]   \n",
       "123   [{'key': '/authors/OL5693808A'}]   \n",
       "124   [{'key': '/authors/OL6444417A'}]   \n",
       "125  [{'key': '/authors/OL12882893A'}]   \n",
       "\n",
       "                                                 title   \n",
       "0                                The party line online  \\\n",
       "1                              Nurse Conner comes home   \n",
       "2                                    Marti Friedlander   \n",
       "3    English subtitled script of 'Atithi' ('The Run...   \n",
       "4                Introduction to Superfund enforcement   \n",
       "..                                                 ...   \n",
       "121                Hamilton and Jefferson on democracy   \n",
       "122                                William Shakespeare   \n",
       "123  Report of the Representative of the Secretary-...   \n",
       "124  Correlated Equilibrium and Nash Equilibrium as...   \n",
       "125                         Judex - judging the fields   \n",
       "\n",
       "                          date   \n",
       "0   2022-12-31 19:12:09.617601  \\\n",
       "1   2022-12-31 22:10:24.236520   \n",
       "2   2023-01-01 03:45:06.536492   \n",
       "3   2023-01-02 03:21:08.230627   \n",
       "4   2023-01-06 11:32:11.430133   \n",
       "..                         ...   \n",
       "121 2023-03-08 05:17:52.796016   \n",
       "122 2023-03-08 13:21:09.340000   \n",
       "123 2023-05-03 04:31:50.964069   \n",
       "124 2023-05-27 23:52:07.124780   \n",
       "125 2023-05-28 15:00:48.300240   \n",
       "\n",
       "                                             publisher   \n",
       "0    [Association for Education in Journalism and M...  \\\n",
       "1                                          [Ace Books]   \n",
       "2                          [Auckland University Press]   \n",
       "3                          [(Exhibitors) Private Ltd.]   \n",
       "4    [The Office, Distributed by EPA NETI, National...   \n",
       "..                                                 ...   \n",
       "121  [Encyclopaedia Britannica Educational Corporat...   \n",
       "122  [A&E Home Video, [Marketed and distributed in ...   \n",
       "123                                               [UN]   \n",
       "124    [Division of Research, Harvard Business School]   \n",
       "125                                  [Hesperian Press]   \n",
       "\n",
       "                                           description  \n",
       "0    \"During a 6-month period analyzed in this stud...  \n",
       "1    A romantic triangle creates complications invo...  \n",
       "2    Career of Marti Friedlander showing her work t...  \n",
       "3           Censor script of a Bengali moving-picture.  \n",
       "4    Designed to train EPA and state and local offi...  \n",
       "..                                                 ...  \n",
       "121  Alexander Hamilton and Thomas Jefferson are ta...  \n",
       "122  A biography of the greatest writer in the Engl...  \n",
       "123  Reviews the development of the Guiding Princip...  \n",
       "124  Noncooperative games are examined from the poi...  \n",
       "125  \"The short stories presented here are from the...  \n",
       "\n",
       "[126 rows x 5 columns]"
      ]
     },
     "execution_count": 57,
     "metadata": {},
     "output_type": "execute_result"
    }
   ],
   "source": [
    "df = pd.DataFrame(books_data)\n",
    "df"
   ]
  },
  {
   "cell_type": "code",
   "execution_count": 60,
   "id": "d90e7cfa",
   "metadata": {},
   "outputs": [
    {
     "data": {
      "text/plain": [
       "['type',\n",
       " 'authors',\n",
       " 'languages',\n",
       " 'number_of_pages',\n",
       " 'publish_date',\n",
       " 'publishers',\n",
       " 'source_records',\n",
       " 'title',\n",
       " 'weight',\n",
       " 'full_title',\n",
       " 'works',\n",
       " 'key',\n",
       " 'covers',\n",
       " 'identifiers',\n",
       " 'isbn_13',\n",
       " 'isbn_10',\n",
       " 'oclc_numbers',\n",
       " 'classifications',\n",
       " 'physical_dimensions',\n",
       " 'contributors',\n",
       " 'physical_format',\n",
       " 'description',\n",
       " 'latest_revision',\n",
       " 'revision',\n",
       " 'created',\n",
       " 'last_modified',\n",
       " 'subjects',\n",
       " 'publish_country',\n",
       " 'notes',\n",
       " 'links',\n",
       " 'subtitle',\n",
       " 'by_statement',\n",
       " 'publish_places',\n",
       " 'pagination',\n",
       " 'first_sentence',\n",
       " 'copyright_date',\n",
       " 'series',\n",
       " 'lc_classifications']"
      ]
     },
     "execution_count": 60,
     "metadata": {},
     "output_type": "execute_result"
    }
   ],
   "source": [
    "list(df.columns)"
   ]
  },
  {
   "cell_type": "code",
   "execution_count": null,
   "id": "8134f210",
   "metadata": {},
   "outputs": [],
   "source": []
  }
 ],
 "metadata": {
  "kernelspec": {
   "display_name": "Python 3 (ipykernel)",
   "language": "python",
   "name": "python3"
  },
  "language_info": {
   "codemirror_mode": {
    "name": "ipython",
    "version": 3
   },
   "file_extension": ".py",
   "mimetype": "text/x-python",
   "name": "python",
   "nbconvert_exporter": "python",
   "pygments_lexer": "ipython3",
   "version": "3.9.13"
  }
 },
 "nbformat": 4,
 "nbformat_minor": 5
}
